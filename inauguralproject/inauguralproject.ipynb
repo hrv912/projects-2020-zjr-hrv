{
 "cells": [
  {
   "cell_type": "markdown",
   "metadata": {},
   "source": [
    "# Inaugural Project"
   ]
  },
  {
   "cell_type": "markdown",
   "metadata": {},
   "source": [
    "Imports and set magics:"
   ]
  },
  {
   "cell_type": "code",
   "execution_count": 7,
   "metadata": {},
   "outputs": [
    {
     "name": "stdout",
     "output_type": "stream",
     "text": "The autoreload extension is already loaded. To reload it, use:\n  %reload_ext autoreload\n"
    }
   ],
   "source": [
    "import numpy as np\n",
    "import matplotlib.pylab as plt\n",
    "from scipy import optimize\n",
    "# autoreload modules when code is run\n",
    "%load_ext autoreload\n",
    "%autoreload 2\n",
    "\n",
    "# local modules\n",
    "import inauguralproject\n"
   ]
  },
  {
   "cell_type": "markdown",
   "metadata": {
    "toc-hr-collapsed": true
   },
   "source": [
    "# Question 1"
   ]
  },
  {
   "cell_type": "code",
   "execution_count": 8,
   "metadata": {},
   "outputs": [
    {
     "name": "stdout",
     "output_type": "stream",
     "text": "Labour supply: 0.339\nConsumption: 1.102\nUtility: 0.076\n"
    }
   ],
   "source": [
    "#Firstly, we define the variables for later use. These are given by:\n",
    "\n",
    "#Cash-on-hand:\n",
    "m=1\n",
    "\n",
    "#Labour_disutility:\n",
    "v=10\n",
    "\n",
    "#Frisch_elasticity:\n",
    "e=0.3 \n",
    "\n",
    "#Tax_standard:\n",
    "tau_0=0.4\n",
    "\n",
    "#Tax_top:\n",
    "tau_1=0.1\n",
    "\n",
    "#Cutoff\n",
    "kappa=0.4\n",
    "\n",
    "#Wage_rate:\n",
    "w=0.5\n",
    "\n",
    "#Parameters:\n",
    "params=[tau_1,tau_0, kappa]\n",
    "\n",
    "#Next, the utility functiond is defined by: \n",
    "def utility(l,c,e,v):\n",
    "    #Utility derived from consumption and labour supply is returned given: \n",
    "    u=np.log(c)-v*l**(1+1/e)/(1+1/e)\n",
    "    return u\n",
    "\n",
    "#Then the budget constraint is defined by:\n",
    "def budget_constraint(m,w,l,params):\n",
    "    #Cash-on-hand, wage and standard labour taxes is returned given:\n",
    "    budget=m+w*l-w*l*tau_0-tau_1*max((w*l-kappa),0)\n",
    "    return budget\n",
    "\n",
    "#Making consumption = budget constraint and defining the optimization problem: \n",
    "def decision(l,w,e,v,params):\n",
    "    c=budget_constraint(m,w,l,params)\n",
    "    return -utility(l,c,e,v)\n",
    "\n",
    "def optimizer(w,e,v,params,m):\n",
    "    # Solve for a list of 3 values\n",
    "    sol_case1 = optimize.minimize_scalar(\n",
    "        decision,method='bounded',\n",
    "        bounds=(0,1),args=(w,e,v,params))\n",
    "    \n",
    "    # Optimal labor equals the optimized solution in the function:\n",
    "    lstar=sol_case1.x\n",
    "\n",
    "    # Optimal consumption equals the budget constraint-function as we know, given the optimal l.\n",
    "    cstar=budget_constraint(m,w,lstar,params)\n",
    "\n",
    "    # Optimal utility must then be equal to the utility function given optimal l and c.\n",
    "    ustar=utility(lstar,cstar,e,v)\n",
    "    return [lstar,cstar,ustar]\n",
    "\n",
    "# Draws out variables from the optimizer-list.\n",
    "lstar=optimizer(w,e,v,params,m)[0]\n",
    "cstar=optimizer(w,e,v,params,m)[1]\n",
    "ustar=optimizer(w,e,v,params,m)[2]\n",
    "\n",
    "def printsolution(w,e,v,params,m):\n",
    "    print(f'Labour supply: {lstar:.3f}')\n",
    "    print(f'Consumption: {cstar:.3f}')\n",
    "    print(f'Utility: {ustar:.3f}')\n",
    "\n",
    "printsolution(w,e,v,params,m)\n"
   ]
  },
  {
   "cell_type": "markdown",
   "metadata": {},
   "source": [
    "# Question 2"
   ]
  },
  {
   "cell_type": "markdown",
   "metadata": {},
   "source": [
    "ADD ANSWER."
   ]
  },
  {
   "cell_type": "code",
   "execution_count": 9,
   "metadata": {},
   "outputs": [],
   "source": [
    "# code"
   ]
  },
  {
   "cell_type": "markdown",
   "metadata": {},
   "source": [
    "# Question 3"
   ]
  },
  {
   "cell_type": "markdown",
   "metadata": {},
   "source": [
    "ADD ANSWER."
   ]
  },
  {
   "cell_type": "code",
   "execution_count": 10,
   "metadata": {},
   "outputs": [],
   "source": [
    "# code"
   ]
  },
  {
   "cell_type": "markdown",
   "metadata": {},
   "source": [
    "# Question 4"
   ]
  },
  {
   "cell_type": "markdown",
   "metadata": {},
   "source": [
    "ADD ANSWER."
   ]
  },
  {
   "cell_type": "code",
   "execution_count": 11,
   "metadata": {},
   "outputs": [],
   "source": [
    "# code"
   ]
  },
  {
   "cell_type": "markdown",
   "metadata": {},
   "source": [
    "# Question 5"
   ]
  },
  {
   "cell_type": "markdown",
   "metadata": {},
   "source": [
    "ADD ANSWER."
   ]
  },
  {
   "cell_type": "code",
   "execution_count": 12,
   "metadata": {},
   "outputs": [],
   "source": [
    "# code"
   ]
  },
  {
   "cell_type": "markdown",
   "metadata": {},
   "source": [
    "# Conclusion"
   ]
  },
  {
   "cell_type": "markdown",
   "metadata": {},
   "source": [
    "ADD CONCISE CONLUSION."
   ]
  }
 ],
 "metadata": {
  "kernelspec": {
   "display_name": "Python 3",
   "language": "python",
   "name": "python3"
  },
  "language_info": {
   "codemirror_mode": {
    "name": "ipython",
    "version": 3
   },
   "file_extension": ".py",
   "mimetype": "text/x-python",
   "name": "python",
   "nbconvert_exporter": "python",
   "pygments_lexer": "ipython3",
   "version": "3.7.4-final"
  },
  "toc-autonumbering": true
 },
 "nbformat": 4,
 "nbformat_minor": 4
}